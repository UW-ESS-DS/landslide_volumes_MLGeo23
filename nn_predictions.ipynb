{
 "cells": [
  {
   "cell_type": "code",
   "execution_count": 59,
   "metadata": {},
   "outputs": [],
   "source": [
    "#imports\n",
    "import pandas as pd\n",
    "import numpy as np\n",
    "import matplotlib.pyplot as plt\n",
    "from sklearn.model_selection import train_test_split\n",
    "from sklearn.preprocessing import StandardScaler\n",
    "from sklearn.metrics import mean_squared_error\n",
    "from sklearn.metrics import mean_absolute_error\n",
    "from sklearn.metrics import mean_squared_log_error\n",
    "from sklearn.metrics import explained_variance_score\n",
    "from sklearn.metrics import max_error\n",
    "from sklearn.metrics import median_absolute_error\n",
    "from sklearn.metrics import mean_poisson_deviance\n",
    "from sklearn.metrics import mean_gamma_deviance\n",
    "from sklearn.metrics import mean_tweedie_deviance\n",
    "import sklearn.neural_network"
   ]
  },
  {
   "cell_type": "code",
   "execution_count": 99,
   "metadata": {},
   "outputs": [
    {
     "data": {
      "text/html": [
       "<div>\n",
       "<style scoped>\n",
       "    .dataframe tbody tr th:only-of-type {\n",
       "        vertical-align: middle;\n",
       "    }\n",
       "\n",
       "    .dataframe tbody tr th {\n",
       "        vertical-align: top;\n",
       "    }\n",
       "\n",
       "    .dataframe thead th {\n",
       "        text-align: right;\n",
       "    }\n",
       "</style>\n",
       "<table border=\"1\" class=\"dataframe\">\n",
       "  <thead>\n",
       "    <tr style=\"text-align: right;\">\n",
       "      <th></th>\n",
       "      <th>Unnamed: 0.2</th>\n",
       "      <th>Unnamed: 0.1</th>\n",
       "      <th>Unnamed: 0</th>\n",
       "      <th>OBJECTID</th>\n",
       "      <th>soruce_length</th>\n",
       "      <th>source_area</th>\n",
       "      <th>landslide_ID</th>\n",
       "      <th>deposit_area</th>\n",
       "      <th>CONFIDENCE</th>\n",
       "      <th>MATERIAL</th>\n",
       "      <th>...</th>\n",
       "      <th>mean_rough</th>\n",
       "      <th>std_rough</th>\n",
       "      <th>min_slope</th>\n",
       "      <th>max_slope</th>\n",
       "      <th>mean_slope</th>\n",
       "      <th>std_slope</th>\n",
       "      <th>min_asp</th>\n",
       "      <th>max_asp</th>\n",
       "      <th>mean_asp</th>\n",
       "      <th>std_asp</th>\n",
       "    </tr>\n",
       "  </thead>\n",
       "  <tbody>\n",
       "    <tr>\n",
       "      <th>0</th>\n",
       "      <td>0</td>\n",
       "      <td>0</td>\n",
       "      <td>0</td>\n",
       "      <td>1</td>\n",
       "      <td>3851.588931</td>\n",
       "      <td>147260.070502</td>\n",
       "      <td>5600</td>\n",
       "      <td>531934.562792</td>\n",
       "      <td>moderate</td>\n",
       "      <td>Earth or debris</td>\n",
       "      <td>...</td>\n",
       "      <td>18.773749</td>\n",
       "      <td>8.939351</td>\n",
       "      <td>2.742452</td>\n",
       "      <td>32.380558</td>\n",
       "      <td>15.358492</td>\n",
       "      <td>7.426611</td>\n",
       "      <td>56.121899</td>\n",
       "      <td>139.231140</td>\n",
       "      <td>99.910784</td>\n",
       "      <td>19.231195</td>\n",
       "    </tr>\n",
       "    <tr>\n",
       "      <th>1</th>\n",
       "      <td>1</td>\n",
       "      <td>1</td>\n",
       "      <td>1</td>\n",
       "      <td>2</td>\n",
       "      <td>478.577643</td>\n",
       "      <td>7375.893616</td>\n",
       "      <td>5601</td>\n",
       "      <td>13973.308516</td>\n",
       "      <td>low</td>\n",
       "      <td>Earth or debris</td>\n",
       "      <td>...</td>\n",
       "      <td>24.181767</td>\n",
       "      <td>3.681896</td>\n",
       "      <td>14.538154</td>\n",
       "      <td>24.222824</td>\n",
       "      <td>18.963466</td>\n",
       "      <td>2.223287</td>\n",
       "      <td>19.342522</td>\n",
       "      <td>283.361267</td>\n",
       "      <td>160.748465</td>\n",
       "      <td>57.927951</td>\n",
       "    </tr>\n",
       "    <tr>\n",
       "      <th>2</th>\n",
       "      <td>2</td>\n",
       "      <td>2</td>\n",
       "      <td>2</td>\n",
       "      <td>3</td>\n",
       "      <td>621.878585</td>\n",
       "      <td>9097.112403</td>\n",
       "      <td>5602</td>\n",
       "      <td>25699.961862</td>\n",
       "      <td>low</td>\n",
       "      <td>Earth or debris</td>\n",
       "      <td>...</td>\n",
       "      <td>18.422395</td>\n",
       "      <td>6.574039</td>\n",
       "      <td>3.696535</td>\n",
       "      <td>22.295137</td>\n",
       "      <td>14.502633</td>\n",
       "      <td>5.365441</td>\n",
       "      <td>72.315399</td>\n",
       "      <td>225.361328</td>\n",
       "      <td>129.899027</td>\n",
       "      <td>41.212553</td>\n",
       "    </tr>\n",
       "    <tr>\n",
       "      <th>3</th>\n",
       "      <td>3</td>\n",
       "      <td>3</td>\n",
       "      <td>3</td>\n",
       "      <td>4</td>\n",
       "      <td>1187.857110</td>\n",
       "      <td>20648.173693</td>\n",
       "      <td>5603</td>\n",
       "      <td>94054.007176</td>\n",
       "      <td>low</td>\n",
       "      <td>Earth or debris</td>\n",
       "      <td>...</td>\n",
       "      <td>21.286560</td>\n",
       "      <td>8.332988</td>\n",
       "      <td>5.329493</td>\n",
       "      <td>27.280369</td>\n",
       "      <td>15.797822</td>\n",
       "      <td>5.754156</td>\n",
       "      <td>17.712673</td>\n",
       "      <td>213.106827</td>\n",
       "      <td>130.838004</td>\n",
       "      <td>36.269226</td>\n",
       "    </tr>\n",
       "    <tr>\n",
       "      <th>4</th>\n",
       "      <td>4</td>\n",
       "      <td>4</td>\n",
       "      <td>4</td>\n",
       "      <td>5</td>\n",
       "      <td>1866.133373</td>\n",
       "      <td>35616.221508</td>\n",
       "      <td>5604</td>\n",
       "      <td>90517.371084</td>\n",
       "      <td>moderate</td>\n",
       "      <td>Earth or debris</td>\n",
       "      <td>...</td>\n",
       "      <td>18.165191</td>\n",
       "      <td>8.389121</td>\n",
       "      <td>2.155986</td>\n",
       "      <td>25.588272</td>\n",
       "      <td>13.185511</td>\n",
       "      <td>6.302846</td>\n",
       "      <td>121.775955</td>\n",
       "      <td>250.843674</td>\n",
       "      <td>158.335124</td>\n",
       "      <td>27.768627</td>\n",
       "    </tr>\n",
       "  </tbody>\n",
       "</table>\n",
       "<p>5 rows × 32 columns</p>\n",
       "</div>"
      ],
      "text/plain": [
       "   Unnamed: 0.2  Unnamed: 0.1  Unnamed: 0  OBJECTID  soruce_length  \\\n",
       "0             0             0           0         1    3851.588931   \n",
       "1             1             1           1         2     478.577643   \n",
       "2             2             2           2         3     621.878585   \n",
       "3             3             3           3         4    1187.857110   \n",
       "4             4             4           4         5    1866.133373   \n",
       "\n",
       "     source_area  landslide_ID   deposit_area CONFIDENCE         MATERIAL  \\\n",
       "0  147260.070502          5600  531934.562792   moderate  Earth or debris   \n",
       "1    7375.893616          5601   13973.308516        low  Earth or debris   \n",
       "2    9097.112403          5602   25699.961862        low  Earth or debris   \n",
       "3   20648.173693          5603   94054.007176        low  Earth or debris   \n",
       "4   35616.221508          5604   90517.371084   moderate  Earth or debris   \n",
       "\n",
       "   ...  mean_rough  std_rough  min_slope  max_slope mean_slope std_slope  \\\n",
       "0  ...   18.773749   8.939351   2.742452  32.380558  15.358492  7.426611   \n",
       "1  ...   24.181767   3.681896  14.538154  24.222824  18.963466  2.223287   \n",
       "2  ...   18.422395   6.574039   3.696535  22.295137  14.502633  5.365441   \n",
       "3  ...   21.286560   8.332988   5.329493  27.280369  15.797822  5.754156   \n",
       "4  ...   18.165191   8.389121   2.155986  25.588272  13.185511  6.302846   \n",
       "\n",
       "      min_asp     max_asp    mean_asp    std_asp  \n",
       "0   56.121899  139.231140   99.910784  19.231195  \n",
       "1   19.342522  283.361267  160.748465  57.927951  \n",
       "2   72.315399  225.361328  129.899027  41.212553  \n",
       "3   17.712673  213.106827  130.838004  36.269226  \n",
       "4  121.775955  250.843674  158.335124  27.768627  \n",
       "\n",
       "[5 rows x 32 columns]"
      ]
     },
     "execution_count": 99,
     "metadata": {},
     "output_type": "execute_result"
    }
   ],
   "source": [
    "# Load data from data folder\n",
    "df = pd.read_csv('data/data_complete_final.csv')\n",
    "df.head()"
   ]
  },
  {
   "cell_type": "code",
   "execution_count": 101,
   "metadata": {},
   "outputs": [],
   "source": [
    "#define features and target\n",
    "# features = df[['Shape_Leng','source_area','LANDSLIDE_','geom_source','deposit_area','CONFIDENCE','MATERIAL','VOLUME_FT3','SLOPE_DEG','HS_HEIGHT_','FAIL_DEPTH','geom_deposit']]\n",
    "features = df[['soruce_length','source_area','deposit_area','CONFIDENCE','MATERIAL','SLOPE_DEG','FAIL_DEPTH', 'mean_rough',\t'std_rough',\t'min_slope'\t,'max_slope'\t,'mean_slope'\t,'std_slope'\t,'min_asp',\t'max_asp',\t'mean_asp',\t'std_asp']]\n",
    "target = df['VOLUME_FT3']\n",
    "\n",
    "#one hot encoding\n",
    "features = pd.get_dummies(features, columns=['soruce_length','source_area','deposit_area','CONFIDENCE','MATERIAL','SLOPE_DEG','FAIL_DEPTH', 'mean_rough',\t'std_rough',\t'min_slope'\t,'max_slope'\t,'mean_slope'\t,'std_slope'\t,'min_asp',\t'max_asp',\t'mean_asp',\t'std_asp'])\n",
    "train, test, train_labels, test_labels = train_test_split(features, target, test_size = 0.2, random_state = 42)\n",
    "train, val, train_labels, val_labels = train_test_split(train, train_labels, test_size = 0.2, random_state = 42)\n",
    "\n"
   ]
  },
  {
   "cell_type": "code",
   "execution_count": 102,
   "metadata": {},
   "outputs": [
    {
     "name": "stderr",
     "output_type": "stream",
     "text": [
      "/Users/caleblykken/Library/Python/3.9/lib/python/site-packages/sklearn/neural_network/_multilayer_perceptron.py:698: UserWarning: Training interrupted by user.\n",
      "  warnings.warn(\"Training interrupted by user.\")\n"
     ]
    },
    {
     "name": "stdout",
     "output_type": "stream",
     "text": [
      "Hidden layers:  1 Neurons:  1 Mean Squared Error:  7.380527279009766e+17\n"
     ]
    },
    {
     "name": "stderr",
     "output_type": "stream",
     "text": [
      "/Users/caleblykken/Library/Python/3.9/lib/python/site-packages/sklearn/neural_network/_multilayer_perceptron.py:691: ConvergenceWarning: Stochastic Optimizer: Maximum iterations (1000) reached and the optimization hasn't converged yet.\n",
      "  warnings.warn(\n"
     ]
    },
    {
     "name": "stdout",
     "output_type": "stream",
     "text": [
      "Hidden layers:  1 Neurons:  2 Mean Squared Error:  7.380516446728842e+17\n"
     ]
    },
    {
     "name": "stderr",
     "output_type": "stream",
     "text": [
      "/Users/caleblykken/Library/Python/3.9/lib/python/site-packages/sklearn/neural_network/_multilayer_perceptron.py:691: ConvergenceWarning: Stochastic Optimizer: Maximum iterations (1000) reached and the optimization hasn't converged yet.\n",
      "  warnings.warn(\n"
     ]
    },
    {
     "name": "stdout",
     "output_type": "stream",
     "text": [
      "Hidden layers:  1 Neurons:  3 Mean Squared Error:  7.380526900099258e+17\n"
     ]
    },
    {
     "name": "stderr",
     "output_type": "stream",
     "text": [
      "/Users/caleblykken/Library/Python/3.9/lib/python/site-packages/sklearn/neural_network/_multilayer_perceptron.py:691: ConvergenceWarning: Stochastic Optimizer: Maximum iterations (1000) reached and the optimization hasn't converged yet.\n",
      "  warnings.warn(\n"
     ]
    },
    {
     "name": "stdout",
     "output_type": "stream",
     "text": [
      "Hidden layers:  2 Neurons:  1 Mean Squared Error:  7.380527266053847e+17\n"
     ]
    },
    {
     "name": "stderr",
     "output_type": "stream",
     "text": [
      "/Users/caleblykken/Library/Python/3.9/lib/python/site-packages/sklearn/neural_network/_multilayer_perceptron.py:691: ConvergenceWarning: Stochastic Optimizer: Maximum iterations (1000) reached and the optimization hasn't converged yet.\n",
      "  warnings.warn(\n"
     ]
    },
    {
     "name": "stdout",
     "output_type": "stream",
     "text": [
      "Hidden layers:  2 Neurons:  2 Mean Squared Error:  7.380484792535132e+17\n"
     ]
    },
    {
     "name": "stderr",
     "output_type": "stream",
     "text": [
      "/Users/caleblykken/Library/Python/3.9/lib/python/site-packages/sklearn/neural_network/_multilayer_perceptron.py:691: ConvergenceWarning: Stochastic Optimizer: Maximum iterations (1000) reached and the optimization hasn't converged yet.\n",
      "  warnings.warn(\n"
     ]
    },
    {
     "name": "stdout",
     "output_type": "stream",
     "text": [
      "Hidden layers:  2 Neurons:  3 Mean Squared Error:  7.380484744241366e+17\n"
     ]
    },
    {
     "name": "stderr",
     "output_type": "stream",
     "text": [
      "/Users/caleblykken/Library/Python/3.9/lib/python/site-packages/sklearn/neural_network/_multilayer_perceptron.py:691: ConvergenceWarning: Stochastic Optimizer: Maximum iterations (1000) reached and the optimization hasn't converged yet.\n",
      "  warnings.warn(\n"
     ]
    },
    {
     "name": "stdout",
     "output_type": "stream",
     "text": [
      "Hidden layers:  3 Neurons:  1 Mean Squared Error:  7.380527266921865e+17\n"
     ]
    },
    {
     "name": "stderr",
     "output_type": "stream",
     "text": [
      "/Users/caleblykken/Library/Python/3.9/lib/python/site-packages/sklearn/neural_network/_multilayer_perceptron.py:691: ConvergenceWarning: Stochastic Optimizer: Maximum iterations (1000) reached and the optimization hasn't converged yet.\n",
      "  warnings.warn(\n"
     ]
    },
    {
     "name": "stdout",
     "output_type": "stream",
     "text": [
      "Hidden layers:  3 Neurons:  2 Mean Squared Error:  7.380505578489032e+17\n",
      "Hidden layers:  3 Neurons:  3 Mean Squared Error:  7.380506416877768e+17\n"
     ]
    },
    {
     "name": "stderr",
     "output_type": "stream",
     "text": [
      "/Users/caleblykken/Library/Python/3.9/lib/python/site-packages/sklearn/neural_network/_multilayer_perceptron.py:691: ConvergenceWarning: Stochastic Optimizer: Maximum iterations (1000) reached and the optimization hasn't converged yet.\n",
      "  warnings.warn(\n"
     ]
    },
    {
     "data": {
      "text/plain": [
       "[[1, 1, 7.380527279009766e+17],\n",
       " [1, 2, 7.380516446728842e+17],\n",
       " [1, 3, 7.380526900099258e+17],\n",
       " [2, 1, 7.380527266053847e+17],\n",
       " [2, 2, 7.380484792535132e+17],\n",
       " [2, 3, 7.380484744241366e+17],\n",
       " [3, 1, 7.380527266921865e+17],\n",
       " [3, 2, 7.380505578489032e+17],\n",
       " [3, 3, 7.380506416877768e+17]]"
      ]
     },
     "execution_count": 102,
     "metadata": {},
     "output_type": "execute_result"
    }
   ],
   "source": [
    "#with the validation set find the best number of hidden layers and neurons\n",
    "#create table to analyze the results\n",
    "d = []\n",
    "for i in range(1, 4):\n",
    "    for j in range(1, 4):\n",
    "        model = sklearn.neural_network.MLPRegressor(hidden_layer_sizes=(i,j), activation='relu', solver='adam', max_iter=1000, random_state=42)\n",
    "        model.fit(train, train_labels)\n",
    "        predictions = model.predict(val)\n",
    "        # add it to the list d\n",
    "        d.append([i, j, mean_squared_error(val_labels, predictions)])\n",
    "        print(\"Hidden layers: \", i, \"Neurons: \", j, \"Mean Squared Error: \", mean_squared_error(val_labels, predictions))\n",
    "\n",
    "#with the validation set find the best activation function\n",
    "\n",
    "\n",
    "\n",
    "\n",
    "\n"
   ]
  },
  {
   "cell_type": "code",
   "execution_count": 109,
   "metadata": {},
   "outputs": [
    {
     "name": "stdout",
     "output_type": "stream",
     "text": [
      "[270.31943082 253.4679482  244.77772543 256.72069992 265.07663743\n",
      " 263.1585304  254.08510621 247.51442839 245.20403575 248.80253457\n",
      " 285.85672869 260.79802218 295.28408864 237.35186516 251.54321269\n",
      " 246.04381709 247.91887017 244.35920228 255.99794653 245.13559454\n",
      " 268.4346366  245.75292525 268.52422897 272.23255952 237.24531772\n",
      " 268.98644356 259.47129758 263.44824094 253.37025252 254.67162183\n",
      " 224.96007563 243.76855986 260.26739058 258.38928773 235.3990831\n",
      " 248.29945935 262.60595044 236.2332197  265.67560327 243.05867125\n",
      " 243.81186187 329.02024647 224.58969722 244.72681798 267.62998695\n",
      " 258.72038877 265.27340432 249.90490003 228.05954277 289.48128751\n",
      " 246.60162564 274.1852748  246.91101327 229.8157802  242.12010756\n",
      " 254.01715779 255.51961368 238.82149385 275.36089279 241.45789375\n",
      " 266.63612268 264.11978441 257.67175725 242.60207652 253.66124865\n",
      " 305.13673471 251.86234608 273.72928926 233.90217913 252.60308661\n",
      " 257.63215409 249.16527896 212.75059294 257.11746241 264.3163714\n",
      " 237.53415595 274.79643958 245.63474599 251.57488822 247.28059007\n",
      " 248.29025818 246.13748751 256.07621081 227.7609695  237.7982249\n",
      " 234.49598166 237.72222489 260.31063185 204.33456553 237.54485057\n",
      " 257.04123662 263.99909437 220.58227893 242.15902161 254.23479948\n",
      " 224.67376439 237.40210597 238.41361616 258.92813052 233.69253504\n",
      " 233.96338909 252.6697004  239.90990807 220.60609835 243.51984406\n",
      " 222.09337649 290.45335028 267.47823803 271.98048451 246.16858866\n",
      " 285.28239914 230.28773138 180.85038904 238.14004435 253.45823845\n",
      " 265.13939294 245.88747955 270.48317329 266.20616383 254.82519217\n",
      " 221.71392874 241.15613866 278.24080093 239.85748015 298.88492668\n",
      " 243.50316715 265.79719231 222.91519001 246.39732704 245.90217591\n",
      " 245.96198639 261.5398328  261.26195004 255.61841321 259.92828164\n",
      " 249.89355575 264.86787834 240.46726555 247.93222373 254.67162183\n",
      " 247.23937648 227.6843507  258.92976605 272.2658143  246.81581437\n",
      " 254.47588604 299.55437958 257.10973569 270.08346378 264.67653972\n",
      " 232.88649012 241.38726749 241.22406817 253.50120582 194.37974362\n",
      " 227.91422343 257.63987123 236.25471795 252.82600201 246.81181467\n",
      " 240.61152662 229.86510962 262.52506268 244.72681798 159.86057518\n",
      " 254.88104748 245.41428354 285.92154943 252.85210265 229.75753114\n",
      " 283.27853911 241.61517382 304.68256273 232.0350289  254.41427193\n",
      " 303.34155715 263.3161067  265.7172405  252.36088786 238.25176442\n",
      " 263.1585304  215.84945008 263.56814475 265.70262533 248.21347319\n",
      " 265.24890368 274.79365861 229.37473791 253.42201034 250.61676293\n",
      " 234.32199094 260.67864823 249.21228869 251.70262989 255.02310782\n",
      " 265.06487449 238.97937956 271.35614632 259.70045727 252.06438779\n",
      " 251.16171259 229.37646813 226.29793722 231.94775997 225.30440689\n",
      " 250.35639806 274.1852748  240.96624624 218.9867325  257.65602076\n",
      " 244.28647633 234.16157547 241.78312892 236.1349706  241.42828996\n",
      " 243.76855986 291.34737738 257.08053642 279.98986276 258.35255931\n",
      " 222.48274931 249.67969742 323.2581279  258.09816336 267.21397023\n",
      " 266.3934544  220.21402043 202.88335336 252.42860375 255.14920217\n",
      " 219.52826403 271.28981822 249.54685725 246.33255907 246.07554\n",
      " 241.71688137 241.83935093 241.3643502  245.44525488 236.22656459\n",
      " 268.02063275 241.26834885 241.0808887  276.24760651 252.11020766\n",
      " 236.0446221  235.34840423 222.2350432  265.26218673 244.10509836\n",
      " 282.60284366 257.71542221 250.72386543 262.32455864 276.27916766\n",
      " 261.09485288 266.80197916 251.94190305 257.93612543 248.2283643\n",
      " 279.85631031 243.64152991 271.76756454 267.73680805 267.47823803\n",
      " 262.39607244 237.61137736 226.60108102 277.96720904 240.70833906\n",
      " 241.0808887  241.17715794 262.24567169 248.2473535  263.98296969\n",
      " 265.06903981 248.72577092 255.0050366  231.20063746 240.87151848\n",
      " 249.87824    254.58450129 225.90446151 241.38721034 278.05703845\n",
      " 253.70535561 248.20034092 329.91819669 299.91458375 239.37478875\n",
      " 216.82901036 262.61613071 249.93243098 254.47324734 273.06611242\n",
      " 262.8974874  219.41402216 255.43991117 273.88758108 233.41617406\n",
      " 247.78450028 252.42465051 240.8602228  263.499864   239.37478875\n",
      " 280.77713853 260.35481161 264.41261711 235.21288446 234.15132546\n",
      " 291.68511685 234.27679047 224.97624846 256.12556607 253.12286221\n",
      " 268.26798513 231.79921226 256.08466053 271.98048451 267.25465548\n",
      " 253.67764673 234.36719673 259.43016158 250.02924665 250.48213345\n",
      " 234.49598166 209.68147635 242.60243325 258.01746782 273.6305701\n",
      " 240.70833906 237.52440406 255.51388752 234.13696695 240.98323855\n",
      " 216.00912804 281.99390616 268.613911   248.18296768 252.42571951\n",
      " 291.37707811 248.77731981 263.41168043 248.57170019 301.34709061\n",
      " 247.1101923  247.28844426 265.75684102 298.58259516 258.30713932\n",
      " 240.87590924 251.97982572 281.67558068 236.4909398  230.99146813\n",
      " 268.28235296 248.86540323 238.57849287 161.52356258 257.85715502\n",
      " 208.21183329 245.92824808 246.98517742 253.79531282 258.5409583\n",
      " 248.54617704 232.06814299 251.27443784 254.49947521 260.04083798\n",
      " 249.23904436 247.01652561 253.33809033 252.55595942 242.13037601\n",
      " 254.30276923 223.57779625 254.89837963 244.94201716 240.99218041\n",
      " 263.36263891 262.03493271 228.91385271 246.01228464 234.24163279\n",
      " 225.05417745 270.08346378 257.93374789 250.2094773  261.21679007\n",
      " 240.79439517 259.42883083 247.21271329 237.83894848 237.83894848\n",
      " 229.19891653 237.80858057 240.24213089 247.92857412 255.36785522\n",
      " 241.00443235 268.23584746 254.19547552 256.69936787 239.47348698\n",
      " 258.76550694 263.53166245 255.20374645 263.3161067  297.30656721\n",
      " 251.99630138 262.25082101 295.73561627 259.43047763 246.96543065\n",
      " 263.73587547 273.96032305 229.21828047 246.4387469  202.22841198\n",
      " 266.27339209 247.88853433 260.19703745 236.44489402 244.70807459\n",
      " 231.25086691 244.06624121 242.02718102 268.86348501 302.10673039\n",
      " 255.65127218 305.42387857 271.4237292  244.53561156 255.49213162\n",
      " 233.42008447 260.41187183 261.69453466 268.14235657 271.27961724\n",
      " 223.69894622 224.54685333 262.94507948 253.79531282 265.15871001\n",
      " 261.79335135 245.0533571  264.75407683 244.55579653 259.55928661\n",
      " 249.69848419 255.981501   240.24669444 492.34089851 237.50389422\n",
      " 225.07380616 254.84932772 266.07075213 258.30713932 252.27929533\n",
      " 239.37478875 272.81369158 239.17022197 231.71299281 257.36242317\n",
      " 248.34334152 241.87999698 260.2171185  251.60084237 265.57851612\n",
      " 240.24621266 244.24008326 239.533168   232.05350929 266.55615701\n",
      " 320.84827191 220.58227893 236.31527024 242.13037601 253.31487175\n",
      " 286.29945667 276.29038834 262.15826724 218.21344561 257.90530269\n",
      " 246.40738929 227.09907898 244.91065955 247.2487     260.26739058\n",
      " 246.64282895 281.67793582 487.28594754 246.52384019 269.13793221\n",
      " 265.80371826 204.99898361 255.48443499 240.09698815 262.18068406\n",
      " 229.98491949 259.78750678 278.28477484 269.93136634 254.57208272\n",
      " 256.86804872 246.27445516 256.14968445 245.1820038  227.61772345\n",
      " 258.13455131 250.17527896 236.15919031 255.04051076 256.86777794\n",
      " 237.94162376 271.81895662 251.05922969 253.54625714 265.96242506\n",
      " 236.59587449 253.36989579 235.74004535 237.30925846 268.28235296\n",
      " 258.47313295 286.55870226 256.69936787 228.02261809 256.14801514\n",
      " 255.43991117 263.42690421 273.69804045 251.97121847]\n"
     ]
    },
    {
     "name": "stderr",
     "output_type": "stream",
     "text": [
      "/Users/caleblykken/Library/Python/3.9/lib/python/site-packages/sklearn/neural_network/_multilayer_perceptron.py:691: ConvergenceWarning: Stochastic Optimizer: Maximum iterations (200) reached and the optimization hasn't converged yet.\n",
      "  warnings.warn(\n"
     ]
    }
   ],
   "source": [
    "\n",
    "model = sklearn.neural_network.MLPRegressor(hidden_layer_sizes=(2,3), activation='relu', solver='adam', alpha=0.0001, batch_size='auto',\n",
    "                                            learning_rate='constant', learning_rate_init=0.001, power_t=0.5, max_iter=200, shuffle=True,\n",
    "                                            random_state=None, tol=0.0001, verbose=False, warm_start=False, momentum=0.9,\n",
    "                                            nesterovs_momentum=True, early_stopping=False, validation_fraction=0.1, beta_1=0.9,\n",
    "                                            beta_2=0.999, epsilon=1e-08, n_iter_no_change=10, max_fun=15000)\n",
    "model.fit(train, train_labels)\n",
    "predictions = model.predict(test)\n",
    "print(predictions)\n",
    "\n",
    "\n",
    "\n",
    "\n"
   ]
  },
  {
   "cell_type": "code",
   "execution_count": 116,
   "metadata": {},
   "outputs": [
    {
     "data": {
      "image/png": "[encoded data removed]",
      "text/plain": [
       "<Figure size 640x480 with 1 Axes>"
      ]
     },
     "metadata": {},
     "output_type": "display_data"
    },
    {
     "data": {
      "text/plain": [
       "1.5778427613979486e+16"
      ]
     },
     "execution_count": 116,
     "metadata": {},
     "output_type": "execute_result"
    }
   ],
   "source": [
    "\n",
    "\n",
    "#graph the accuracy\n",
    "plt.scatter(test_labels, predictions)\n",
    "plt.xlabel('True Values')\n",
    "plt.ylabel('Predictions')\n",
    "# add a line for perfect correlation\n",
    "plt.plot(np.unique(test_labels), np.poly1d(np.polyfit(test_labels, predictions, 1))(np.unique(test_labels)))\n",
    "#label the graph\n",
    "plt.title('Neural Network Predictions For Volume of Landslides')\n",
    "plt.show()\n",
    "#print accuracy\n",
    "accuracy = model.score(test, test_labels)\n",
    "accuracy = accuracy * 100\n",
    "\n",
    "#print mean squared error\n",
    "mse = mean_squared_error(test_labels, predictions)\n",
    "mse"
   ]
  },
  {
   "cell_type": "code",
   "execution_count": null,
   "metadata": {},
   "outputs": [],
   "source": []
  }
 ],
 "metadata": {
  "kernelspec": {
   "display_name": "Python 3",
   "language": "python",
   "name": "python3"
  },
  "language_info": {
   "codemirror_mode": {
    "name": "ipython",
    "version": 3
   },
   "file_extension": ".py",
   "mimetype": "text/x-python",
   "name": "python",
   "nbconvert_exporter": "python",
   "pygments_lexer": "ipython3",
   "version": "3.9.6"
  },
  "orig_nbformat": 4
 },
 "nbformat": 4,
 "nbformat_minor": 2
}
